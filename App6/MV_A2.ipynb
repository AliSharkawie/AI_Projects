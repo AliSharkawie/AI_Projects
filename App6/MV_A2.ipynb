{
  "nbformat": 4,
  "nbformat_minor": 0,
  "metadata": {
    "colab": {
      "provenance": []
    },
    "kernelspec": {
      "name": "python3",
      "display_name": "Python 3"
    },
    "language_info": {
      "name": "python"
    }
  },
  "cells": [
    {
      "cell_type": "code",
      "execution_count": null,
      "metadata": {
        "colab": {
          "base_uri": "https://localhost:8080/"
        },
        "id": "G8Wf7sZoAXpg",
        "outputId": "b06964da-28b5-4049-9930-366f74fa1748"
      },
      "outputs": [
        {
          "output_type": "stream",
          "name": "stdout",
          "text": [
            "Downloading data from https://storage.googleapis.com/tensorflow/tf-keras-datasets/mnist.npz\n",
            "11490434/11490434 [==============================] - 1s 0us/step\n",
            "Accuracy in Built in HOG:  0.9575\n"
          ]
        }
      ],
      "source": [
        "# Ali mohamed Abdelaty Mohamed\n",
        "# 20200334\n",
        "# Noor Eldeen Mahmdoh\n",
        "# 20190594\n",
        "\n",
        "import numpy as np\n",
        "from skimage.feature import hog\n",
        "from keras.datasets import mnist\n",
        "from sklearn.svm import SVC\n",
        "from sklearn.metrics import accuracy_score\n",
        "import matplotlib.pyplot as plt\n",
        "import cv2\n",
        "from math import sqrt, atan, degrees, ceil, floor\n",
        "\n",
        "# Load the MNIST dataset\n",
        "(X_train, y_train), (X_test, y_test) = mnist.load_data()\n",
        "\n",
        "# Define HOG parameters\n",
        "orientations = 9\n",
        "pixels_per_cell = (8, 8)\n",
        "cells_per_block = (2, 2)\n",
        "\n",
        "# Function to compute HOG features for a single image\n",
        "def compute_hog_features(image):\n",
        "    return hog(image, orientations=orientations, pixels_per_cell=pixels_per_cell,\n",
        "               cells_per_block=cells_per_block, block_norm='L2-Hys')\n",
        "\n",
        "# Apply HOG feature extraction to training and testing images\n",
        "X_train_hog = np.array([compute_hog_features(image) for image in X_train])\n",
        "X_test_hog = np.array([compute_hog_features(image) for image in X_test])\n",
        "\n",
        "# Train SVM classifier\n",
        "svm_classifier = SVC(kernel='linear')\n",
        "svm_classifier.fit(X_train_hog, y_train)\n",
        "\n",
        "# Predict on test set\n",
        "y_pred = svm_classifier.predict(X_test_hog)\n",
        "\n",
        "# Calculate accuracy\n",
        "accuracy = accuracy_score(y_test, y_pred)\n",
        "print(\"Accuracy in Built in HOG: \", accuracy)\n"
      ]
    },
    {
      "cell_type": "code",
      "source": [
        "import numpy as np\n",
        "from math import sqrt, atan, degrees, ceil, floor\n",
        "from sklearn.svm import SVC\n",
        "from sklearn.metrics import accuracy_score\n",
        "from keras.datasets import mnist\n",
        "\n",
        "def resize_zero_padding(image, new_size):\n",
        "    scale = new_size[1] / 28\n",
        "    padded_image = np.zeros((new_size[0], new_size[1]), dtype=np.uint8)\n",
        "    start_x = (new_size[1] - 28) // 2\n",
        "    start_y = (new_size[0] - 28) // 2\n",
        "    for i in range(start_x, start_x + 28):\n",
        "        for j in range(start_y, start_y + 28):\n",
        "            if i - start_y < 0 or i - start_y >= image.shape[0] or j - start_x < 0 or j - start_x >= image.shape[1]:\n",
        "                padded_image[i, j] = 0  # Handle out-of-boundary pixels\n",
        "            else:\n",
        "                padded_image[i, j] = image[i - start_y, j - start_x]\n",
        "    return padded_image\n",
        "\n",
        "def HOG(img):\n",
        "    img = resize_zero_padding(img, (34, 34))\n",
        "    final_feature = []\n",
        "    for ii in range(1, 34, 16):\n",
        "        if ii > 18:\n",
        "            break\n",
        "        for jj in range(1, 34, 8):\n",
        "            if jj > 26:\n",
        "                break\n",
        "            # loop for 4 quarters\n",
        "            for i in range(ii, ii + 16, 8):\n",
        "                for j in range(jj, jj + 16, 8):\n",
        "                    values = np.zeros(9)\n",
        "                    for m in range(i, i + 8):\n",
        "                        for n in range(j, j + 8):\n",
        "                            if n + 1 < 34 and m + 1 < 34:\n",
        "                                gx = img[m, n + 1].astype(np.int64) - img[m, n - 1].astype(np.int64)\n",
        "                                gy = img[m + 1, n].astype(np.int64) - img[m - 1, n].astype(np.int64)\n",
        "                                # .astype(np.int64) converts the pixel intensity value to a 64-bit integer data type (np.int64).\n",
        "                                #  This conversion is important to ensure that the arithmetic operation does not result in overflow,\n",
        "                                #   especially if the pixel values are represented as smaller integer types like uint8.\n",
        "\n",
        "                                magnitude = sqrt(pow(gx, 2) + pow(gy, 2))\n",
        "                                if gx == 0:\n",
        "                                    phase = 0\n",
        "                                else:\n",
        "                                    phase = gy / gx\n",
        "                                angle_degrees = degrees(atan(phase))\n",
        "                                index = int(angle_degrees / 20)\n",
        "                                values[index] += (ceil(index) * 20 - angle_degrees) * magnitude\n",
        "                                values[min((index + 1),8)] += (angle_degrees - floor(index) * 20) * magnitude\n",
        "                    final_feature.extend(values)\n",
        "    final_feature = np.array(final_feature)\n",
        "    sum_of_squares = np.sum(final_feature ** 2)\n",
        "    normalization_factor = sqrt(sum_of_squares)\n",
        "    normalized_feature = final_feature / normalization_factor\n",
        "    return normalized_feature\n",
        "\n",
        "# Load Data\n",
        "(X_train, y_train), (X_test, y_test) = mnist.load_data()\n",
        "\n",
        "X_train_hog = np.array([HOG(image) for image in X_train])\n",
        "X_test_hog = np.array([HOG(image) for image in X_test])\n",
        "\n",
        "# Train SVM\n",
        "svm_classifier = SVC(kernel='linear')\n",
        "svm_classifier.fit(X_train_hog, y_train)\n",
        "\n",
        "# Predict\n",
        "y_pred = svm_classifier.predict(X_test_hog)\n",
        "\n",
        "# Calculate accuracy\n",
        "accuracy = accuracy_score(y_test, y_pred)\n",
        "print(\"Accuracy in our implemented HOG: \", accuracy)"
      ],
      "metadata": {
        "colab": {
          "base_uri": "https://localhost:8080/"
        },
        "id": "BcEv-xa4ZHbS",
        "outputId": "5e004096-3a2f-49cc-f169-103413807efb"
      },
      "execution_count": null,
      "outputs": [
        {
          "output_type": "stream",
          "name": "stdout",
          "text": [
            "Accuracy in our implemented HOG:  0.9185\n"
          ]
        }
      ]
    }
  ]
}